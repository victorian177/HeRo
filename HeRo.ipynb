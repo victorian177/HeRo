{
  "cells": [
    {
      "cell_type": "code",
      "execution_count": 1,
      "metadata": {},
      "outputs": [
        {
          "name": "stderr",
          "output_type": "stream",
          "text": [
            "[nltk_data] Downloading package punkt to C:\\Users\\Victor\n",
            "[nltk_data]     Momodu\\AppData\\Roaming\\nltk_data...\n",
            "[nltk_data]   Package punkt is already up-to-date!\n",
            "[nltk_data] Downloading package stopwords to C:\\Users\\Victor\n",
            "[nltk_data]     Momodu\\AppData\\Roaming\\nltk_data...\n",
            "[nltk_data]   Package stopwords is already up-to-date!\n",
            "[nltk_data] Downloading package wordnet to C:\\Users\\Victor\n",
            "[nltk_data]     Momodu\\AppData\\Roaming\\nltk_data...\n",
            "[nltk_data]   Package wordnet is already up-to-date!\n",
            "[nltk_data] Downloading package omw-1.4 to C:\\Users\\Victor\n",
            "[nltk_data]     Momodu\\AppData\\Roaming\\nltk_data...\n",
            "[nltk_data]   Package omw-1.4 is already up-to-date!\n"
          ]
        },
        {
          "name": "stdout",
          "output_type": "stream",
          "text": [
            "intents.json file has been modified. Model is being retrained.\n",
            "[[1 1 0 ... 0 0 0]\n",
            " [1 0 1 ... 0 0 0]\n",
            " [1 0 0 ... 0 0 0]\n",
            " ...\n",
            " [0 0 0 ... 0 0 0]\n",
            " [0 0 0 ... 0 1 0]\n",
            " [0 0 0 ... 0 0 1]]\n",
            "[0 0 0 0 0 0 0 0 0 0 1 1 1 1 1 1 1 1 1 1 1 1 1 1 1 1 1 1 1 1 1 1 2 2 2 2 2\n",
            " 2 2 2 2 2 2 2 2 2 2 2 2 2 2 2 2 2 2 2 2 2 2 3 3 3 3 3 3 3 3 3 3 3 3 3 3 3\n",
            " 3 3 3 3 3 3 3 3 3 3 3 3 3 3 3 3 3 3 3 3 3 3 4 4 4 4 4 4 4 4 4 4 4 4 4 4 4\n",
            " 4 4]\n"
          ]
        }
      ],
      "source": [
        "import nlp\n",
        "import speech_process\n",
        "import response\n"
      ]
    },
    {
      "cell_type": "code",
      "execution_count": 3,
      "metadata": {},
      "outputs": [
        {
          "name": "stdout",
          "output_type": "stream",
          "text": [
            "(array([3], dtype=int64), 'wake')\n"
          ]
        }
      ],
      "source": [
        "\n",
        "# text = speech_process.speech_to_text()\n",
        "\n",
        "# if text is not None:\n",
        "#     if \"quit\" in text:\n",
        "#         print(\"quit\")\n",
        "    \n",
        "info = nlp.chat(\"okay\")\n",
        "print(info)\n",
        "# confidence = max(info[0][0])\n",
        "\n",
        "# if confidence < 0.6:\n",
        "#     resp = response.response('no answer')\n",
        "# else:\n",
        "#     resp = response.response(info[1])\n",
        "\n",
        "# speech_process.speak(resp)\n",
        "\n",
        "# print(confidence)\n",
        "\n"
      ]
    }
  ],
  "metadata": {
    "accelerator": "GPU",
    "colab": {
      "collapsed_sections": [],
      "name": "HeRo.ipynb",
      "provenance": []
    },
    "gpuClass": "standard",
    "kernelspec": {
      "display_name": "Python 3.9.1 ('.venv': venv)",
      "language": "python",
      "name": "python3"
    },
    "language_info": {
      "codemirror_mode": {
        "name": "ipython",
        "version": 3
      },
      "file_extension": ".py",
      "mimetype": "text/x-python",
      "name": "python",
      "nbconvert_exporter": "python",
      "pygments_lexer": "ipython3",
      "version": "3.9.1"
    },
    "vscode": {
      "interpreter": {
        "hash": "fb25c2c0027d9df717be2bd52194806c29d0d059ace65cf24496132a005ded38"
      }
    }
  },
  "nbformat": 4,
  "nbformat_minor": 0
}
