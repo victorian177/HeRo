{
  "cells": [
    {
      "cell_type": "code",
      "execution_count": 1,
      "metadata": {},
      "outputs": [],
      "source": [
        "import nlp\n",
        "import speech_process\n",
        "import response\n"
      ]
    },
    {
      "cell_type": "code",
      "execution_count": null,
      "metadata": {},
      "outputs": [],
      "source": []
    },
    {
      "cell_type": "code",
      "execution_count": 2,
      "metadata": {},
      "outputs": [
        {
          "name": "stdout",
          "output_type": "stream",
          "text": [
            "Listening...\n",
            "Google Speech Recognition could not understand audio\n",
            "Input taken\n",
            "None\n",
            "\n",
            "Listening...\n",
            "Input taken\n",
            "i need a new song what is your name\n",
            "\n",
            "contact\n",
            "Listening...\n",
            "Input taken\n",
            "you can't tell me that your new contacts i need you to call me who are you\n",
            "\n",
            "name\n",
            "Listening...\n",
            "Input taken\n",
            "are you a dumbass b****\n",
            "\n",
            "name\n",
            "Listening...\n",
            "Google Speech Recognition could not understand audio\n",
            "Input taken\n",
            "None\n",
            "\n",
            "Listening...\n",
            "Input taken\n",
            "why did you not answer it i'm feeling better quit\n",
            "\n"
          ]
        }
      ],
      "source": [
        "while True:\n",
        "    text = speech_process.speech_to_text()\n",
        "    print(text)\n",
        "    print()\n",
        "\n",
        "    if text is not None:\n",
        "        if \"quit\" in text:\n",
        "            break\n",
        "        \n",
        "        label, prob = nlp.predictor(text)\n",
        "        print(label)\n",
        "\n",
        "        if prob < 0.3:\n",
        "            resp = response.response('no answer')\n",
        "        else:\n",
        "            resp = response.response(label)\n",
        "\n",
        "        speech_process.speak(resp)\n",
        "\n"
      ]
    },
    {
      "cell_type": "code",
      "execution_count": 5,
      "metadata": {},
      "outputs": [
        {
          "data": {
            "text/plain": [
              "('name', 0.327433628318584)"
            ]
          },
          "execution_count": 5,
          "metadata": {},
          "output_type": "execute_result"
        }
      ],
      "source": [
        "nlp.predictor('who are you')"
      ]
    }
  ],
  "metadata": {
    "accelerator": "GPU",
    "colab": {
      "collapsed_sections": [],
      "name": "HeRo.ipynb",
      "provenance": []
    },
    "gpuClass": "standard",
    "kernelspec": {
      "display_name": "Python 3.9.1 ('.venv': venv)",
      "language": "python",
      "name": "python3"
    },
    "language_info": {
      "codemirror_mode": {
        "name": "ipython",
        "version": 3
      },
      "file_extension": ".py",
      "mimetype": "text/x-python",
      "name": "python",
      "nbconvert_exporter": "python",
      "pygments_lexer": "ipython3",
      "version": "3.9.1"
    },
    "vscode": {
      "interpreter": {
        "hash": "fb25c2c0027d9df717be2bd52194806c29d0d059ace65cf24496132a005ded38"
      }
    }
  },
  "nbformat": 4,
  "nbformat_minor": 0
}
